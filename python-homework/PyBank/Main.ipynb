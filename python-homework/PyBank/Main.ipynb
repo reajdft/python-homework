{
 "cells": [
  {
   "cell_type": "code",
   "execution_count": 1,
   "metadata": {},
   "outputs": [],
   "source": [
    "import pandas as pd\n",
    "from pathlib import Path"
   ]
  },
  {
   "cell_type": "code",
   "execution_count": 2,
   "metadata": {},
   "outputs": [
    {
     "data": {
      "text/html": [
       "<div>\n",
       "<style scoped>\n",
       "    .dataframe tbody tr th:only-of-type {\n",
       "        vertical-align: middle;\n",
       "    }\n",
       "\n",
       "    .dataframe tbody tr th {\n",
       "        vertical-align: top;\n",
       "    }\n",
       "\n",
       "    .dataframe thead th {\n",
       "        text-align: right;\n",
       "    }\n",
       "</style>\n",
       "<table border=\"1\" class=\"dataframe\">\n",
       "  <thead>\n",
       "    <tr style=\"text-align: right;\">\n",
       "      <th></th>\n",
       "      <th>Date</th>\n",
       "      <th>Profit/Losses</th>\n",
       "    </tr>\n",
       "  </thead>\n",
       "  <tbody>\n",
       "    <tr>\n",
       "      <th>0</th>\n",
       "      <td>Jan-2010</td>\n",
       "      <td>867884</td>\n",
       "    </tr>\n",
       "    <tr>\n",
       "      <th>1</th>\n",
       "      <td>Feb-2010</td>\n",
       "      <td>984655</td>\n",
       "    </tr>\n",
       "  </tbody>\n",
       "</table>\n",
       "</div>"
      ],
      "text/plain": [
       "       Date  Profit/Losses\n",
       "0  Jan-2010         867884\n",
       "1  Feb-2010         984655"
      ]
     },
     "execution_count": 2,
     "metadata": {},
     "output_type": "execute_result"
    }
   ],
   "source": [
    "# Step 1, create dataframe dubbed \"budget_data\" and read the first 2 rows to identify variable names\n",
    "csvpath = Path(\"../PyBank/budget_data.csv\")\n",
    "budget_data = pd.read_csv(csvpath)\n",
    "budget_data.head(2)"
   ]
  },
  {
   "cell_type": "code",
   "execution_count": 3,
   "metadata": {},
   "outputs": [
    {
     "data": {
      "text/html": [
       "<div>\n",
       "<style scoped>\n",
       "    .dataframe tbody tr th:only-of-type {\n",
       "        vertical-align: middle;\n",
       "    }\n",
       "\n",
       "    .dataframe tbody tr th {\n",
       "        vertical-align: top;\n",
       "    }\n",
       "\n",
       "    .dataframe thead th {\n",
       "        text-align: right;\n",
       "    }\n",
       "</style>\n",
       "<table border=\"1\" class=\"dataframe\">\n",
       "  <thead>\n",
       "    <tr style=\"text-align: right;\">\n",
       "      <th></th>\n",
       "      <th>Date</th>\n",
       "      <th>Profit/Losses</th>\n",
       "      <th>pnl_monthly_lag</th>\n",
       "    </tr>\n",
       "  </thead>\n",
       "  <tbody>\n",
       "    <tr>\n",
       "      <th>0</th>\n",
       "      <td>Jan-2010</td>\n",
       "      <td>867884</td>\n",
       "      <td>NaN</td>\n",
       "    </tr>\n",
       "    <tr>\n",
       "      <th>1</th>\n",
       "      <td>Feb-2010</td>\n",
       "      <td>984655</td>\n",
       "      <td>867884.0</td>\n",
       "    </tr>\n",
       "  </tbody>\n",
       "</table>\n",
       "</div>"
      ],
      "text/plain": [
       "       Date  Profit/Losses  pnl_monthly_lag\n",
       "0  Jan-2010         867884              NaN\n",
       "1  Feb-2010         984655         867884.0"
      ]
     },
     "execution_count": 3,
     "metadata": {},
     "output_type": "execute_result"
    }
   ],
   "source": [
    "# Step 2, create a new variable using Panda's \"shift\" function, which represents a variable where \"n-1\" produces yesterday's perfomance\n",
    "budget_data['pnl_monthly_lag'] = budget_data['Profit/Losses'].shift(1)\n",
    "budget_data.head(2)"
   ]
  },
  {
   "cell_type": "code",
   "execution_count": 5,
   "metadata": {},
   "outputs": [
    {
     "data": {
      "text/html": [
       "<div>\n",
       "<style scoped>\n",
       "    .dataframe tbody tr th:only-of-type {\n",
       "        vertical-align: middle;\n",
       "    }\n",
       "\n",
       "    .dataframe tbody tr th {\n",
       "        vertical-align: top;\n",
       "    }\n",
       "\n",
       "    .dataframe thead th {\n",
       "        text-align: right;\n",
       "    }\n",
       "</style>\n",
       "<table border=\"1\" class=\"dataframe\">\n",
       "  <thead>\n",
       "    <tr style=\"text-align: right;\">\n",
       "      <th></th>\n",
       "      <th>Date</th>\n",
       "      <th>Profit/Losses</th>\n",
       "      <th>pnl_monthly_lag</th>\n",
       "      <th>monthly_change</th>\n",
       "    </tr>\n",
       "  </thead>\n",
       "  <tbody>\n",
       "    <tr>\n",
       "      <th>0</th>\n",
       "      <td>Jan-2010</td>\n",
       "      <td>867884</td>\n",
       "      <td>NaN</td>\n",
       "      <td>NaN</td>\n",
       "    </tr>\n",
       "    <tr>\n",
       "      <th>1</th>\n",
       "      <td>Feb-2010</td>\n",
       "      <td>984655</td>\n",
       "      <td>867884.0</td>\n",
       "      <td>116771.0</td>\n",
       "    </tr>\n",
       "    <tr>\n",
       "      <th>2</th>\n",
       "      <td>Mar-2010</td>\n",
       "      <td>322013</td>\n",
       "      <td>984655.0</td>\n",
       "      <td>-662642.0</td>\n",
       "    </tr>\n",
       "  </tbody>\n",
       "</table>\n",
       "</div>"
      ],
      "text/plain": [
       "       Date  Profit/Losses  pnl_monthly_lag  monthly_change\n",
       "0  Jan-2010         867884              NaN             NaN\n",
       "1  Feb-2010         984655         867884.0        116771.0\n",
       "2  Mar-2010         322013         984655.0       -662642.0"
      ]
     },
     "execution_count": 5,
     "metadata": {},
     "output_type": "execute_result"
    }
   ],
   "source": [
    "# Step 3, create a new variable reflecting the monthly change\n",
    "def monthly_change (today, yesterday):\n",
    "    return today - yesterday\n",
    "budget_data['monthly_change'] = monthly_change(budget_data['Profit/Losses'], budget_data['pnl_monthly_lag'])\n",
    "budget_data.head(3)"
   ]
  },
  {
   "cell_type": "code",
   "execution_count": 6,
   "metadata": {},
   "outputs": [],
   "source": [
    "# Step 4, calculate summary statistics\n",
    "Total = budget_data['Profit/Losses'].sum()\n",
    "total_months = budget_data['Date'].count()\n",
    "total_tabulated_months = budget_data['Date'].count()-1\n",
    "Tot_avg_monthly_change = round(budget_data['monthly_change'].sum(), 2)\n",
    "avg_monthly_change = round(Tot_avg_monthly_change/total_tabulated_months, 2)\n",
    "Max = int(budget_data['monthly_change'].max())\n",
    "Min = int(budget_data['monthly_change'].min())"
   ]
  },
  {
   "cell_type": "code",
   "execution_count": 7,
   "metadata": {},
   "outputs": [
    {
     "name": "stdout",
     "output_type": "stream",
     "text": [
      "Financial Analysis\n",
      ".............................................\n",
      "Total Months: 86\n",
      "Total: $38382578\n",
      "Average Monthly Change: $-2315.12\n",
      "Greatest Increase in profits: $1926159\n",
      "Greatest Decrease in profits: $-2196167\n"
     ]
    }
   ],
   "source": [
    "# Step 5, print summary stats\n",
    "print(\"Financial Analysis\")\n",
    "print(\".............................................\")\n",
    "print(f\"Total Months: {total_months}\")\n",
    "print(f\"Total: ${Total}\")\n",
    "print(f\"Average Monthly Change: ${avg_monthly_change}\")\n",
    "print(f\"Greatest Increase in profits: ${Max}\")\n",
    "print(f\"Greatest Decrease in profits: ${Min}\")"
   ]
  },
  {
   "cell_type": "code",
   "execution_count": 8,
   "metadata": {},
   "outputs": [],
   "source": [
    "# Step 6, specify output environment and content\n",
    "output_path = 'output.txt'\n",
    "with open(output_path, 'w') as file:\n",
    "    # summary stats to the output file, convert to string\n",
    "    file.write(\"Financial Analysis\")\n",
    "    file.write(f\"Total Months: {total_months}\")\n",
    "    file.write(f\"Total: ${Total}\")\n",
    "    file.write(f\"Average Monthly Change: ${avg_monthly_change}\")\n",
    "    file.write(f\"Greatest Increase in profits: ${Max}\")\n",
    "    file.write(f\"Greatest Decrease in profits: ${Min}\") \n",
    "\n"
   ]
  },
  {
   "cell_type": "code",
   "execution_count": null,
   "metadata": {},
   "outputs": [],
   "source": []
  }
 ],
 "metadata": {
  "kernelspec": {
   "display_name": "Python 3",
   "language": "python",
   "name": "python3"
  },
  "language_info": {
   "codemirror_mode": {
    "name": "ipython",
    "version": 3
   },
   "file_extension": ".py",
   "mimetype": "text/x-python",
   "name": "python",
   "nbconvert_exporter": "python",
   "pygments_lexer": "ipython3",
   "version": "3.7.6"
  }
 },
 "nbformat": 4,
 "nbformat_minor": 4
}
